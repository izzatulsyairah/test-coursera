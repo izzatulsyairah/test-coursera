{
 "cells": [
  {
   "cell_type": "markdown",
   "id": "f8e50e70-561e-46de-acc7-25b82c6efbfe",
   "metadata": {},
   "source": [
    "# Data Science Tools and Ecosystem"
   ]
  },
  {
   "cell_type": "markdown",
   "id": "f608e959-d57f-4382-947c-bed2de3852ae",
   "metadata": {},
   "source": [
    "In this notebook, Data Science Tools and Ecosystem are summarized."
   ]
  },
  {
   "cell_type": "markdown",
   "id": "8b0dc55f-5057-4193-b336-60db1f6ec73a",
   "metadata": {},
   "source": [
    "Some of the popular languages that Data Scientists use are:\n",
    "1. Python\n",
    "2. R\n",
    "3. Julia"
   ]
  },
  {
   "cell_type": "markdown",
   "id": "cb3b6423-caa1-4d8c-a292-371ef908a633",
   "metadata": {},
   "source": [
    "Some of the commonly used libraries used by Data Scientists include:\n",
    "- Pandas\n",
    "- NumPy\n",
    "- TensorFlow"
   ]
  },
  {
   "cell_type": "markdown",
   "id": "2a8304b5-3d4d-4579-a1cb-1cacdc2dee4d",
   "metadata": {},
   "source": [
    "   | Data Science Tools   |\n",
    "   |----------------------|\n",
    "   | Jupyter Notebook      |\n",
    "   | RStudio               |\n",
    "   | Apache Zeppelin       |\n"
   ]
  },
  {
   "cell_type": "markdown",
   "id": "64f54db7-c817-459a-8e02-4b8224d41873",
   "metadata": {},
   "source": [
    "### Below are a few examples of evaluating arithmetic expressions in Python"
   ]
  },
  {
   "cell_type": "code",
   "execution_count": 1,
   "id": "f98eae71-6cf8-49f0-9b84-627071720906",
   "metadata": {},
   "outputs": [
    {
     "data": {
      "text/plain": [
       "17"
      ]
     },
     "execution_count": 1,
     "metadata": {},
     "output_type": "execute_result"
    }
   ],
   "source": [
    "# This a simple arithmetic expression to multiply then add integers\n",
    "(3*4)+5"
   ]
  },
  {
   "cell_type": "code",
   "execution_count": 2,
   "id": "56deb235-7950-4f2e-8386-7e679a519ae3",
   "metadata": {},
   "outputs": [
    {
     "data": {
      "text/plain": [
       "3.3333333333333335"
      ]
     },
     "execution_count": 2,
     "metadata": {},
     "output_type": "execute_result"
    }
   ],
   "source": [
    "#  This will convert 200 minutes to hours by diving by 60\n",
    "hours = 200 / 60\n",
    "hours"
   ]
  },
  {
   "cell_type": "markdown",
   "id": "862ffedb-ad57-4917-a897-42f723acf353",
   "metadata": {},
   "source": [
    "**Objectives:**\n",
    "- List popular languages for Data Science.\n",
    "- List commonly used libraries in Data Science.\n",
    "- Create tables for Data Science tools.\n",
    "- Demonstrate arithmetic expressions in Python."
   ]
  },
  {
   "cell_type": "markdown",
   "id": "2fd6aebf-25fd-4114-ace4-b5053389f054",
   "metadata": {},
   "source": [
    "## Author"
   ]
  },
  {
   "cell_type": "markdown",
   "id": "11319e3d-d186-4dac-961d-e43ffd61948b",
   "metadata": {},
   "source": [
    "Izzatul Syairah Ibrahim"
   ]
  },
  {
   "cell_type": "code",
   "execution_count": null,
   "id": "bb4e9499-96ed-43b6-8463-87d854106b0c",
   "metadata": {},
   "outputs": [],
   "source": []
  }
 ],
 "metadata": {
  "kernelspec": {
   "display_name": "Python 3 (ipykernel)",
   "language": "python",
   "name": "python3"
  },
  "language_info": {
   "codemirror_mode": {
    "name": "ipython",
    "version": 3
   },
   "file_extension": ".py",
   "mimetype": "text/x-python",
   "name": "python",
   "nbconvert_exporter": "python",
   "pygments_lexer": "ipython3",
   "version": "3.12.8"
  }
 },
 "nbformat": 4,
 "nbformat_minor": 5
}
